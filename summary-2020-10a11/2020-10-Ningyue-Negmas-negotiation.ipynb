{
 "cells": [
  {
   "cell_type": "markdown",
   "metadata": {},
   "source": [
    "### [Finished] Framework for Negotiation with DRL method under gym environment\n",
    "`https://github.com/YueNing/tn_source_code.git`"
   ]
  },
  {
   "cell_type": "markdown",
   "metadata": {},
   "source": [
    "###  [Finished] Learned acceptance network and offer network\n",
    "\n",
    "1. [IMRPOVEMENT]: Acceptance Network [Finshed] [Single Issue, Multi issues]\n",
    "\n",
    "    * observation_space = [opponent_offer, time]\n",
    "    * action_space = Box.Discrete(3)\n",
    "        - ResponseType.ACCEPT,  \n",
    "        - ResponseType.Wait \n",
    "        - ResponseType.REJECT_OFFER\n",
    "\n",
    "2. [IMPROEMENT]: Offer Network  [Finshed] [Single Issue and Multi issues]\n",
    "\n",
    "    * observation_space = [opponent_offer, time] normalization between [-1, 1]\n",
    "    * action_space = all of outcomes, normalization [-1, 1]"
   ]
  },
  {
   "cell_type": "markdown",
   "metadata": {},
   "source": [
    "### Result\n",
    "\n",
    "Episode reward: The reward of Acceptance strategy  and offer/bidding strategy is increasing.\n"
   ]
  },
  {
   "cell_type": "markdown",
   "metadata": {},
   "source": [
    "#### SIgnle issue, acceptance strategy, episode reward, dqn and ppo1\n",
    "\n",
    "![single issue](./single_issue_negotiation/ac_s_dqn_ppo1_EpRe.svg)\n",
    "\n",
    "#### SIgnle issue, offer/bidding strategy, episode reward, ppo1\n",
    "\n",
    "![single issue](./single_issue_negotiation/of_s_ppo1_EpRe.svg)"
   ]
  },
  {
   "cell_type": "raw",
   "metadata": {},
   "source": []
  }
 ],
 "metadata": {
  "kernelspec": {
   "display_name": "Python 3.8.3 64-bit ('base': conda)",
   "name": "python38364bitbaseconda40198b2b20c345969d4bbfab1707ba6b"
  },
  "language_info": {
   "codemirror_mode": {
    "name": "ipython",
    "version": 3
   },
   "file_extension": ".py",
   "mimetype": "text/x-python",
   "name": "python",
   "nbconvert_exporter": "python",
   "pygments_lexer": "ipython3",
   "version": "3.8.3-final"
  },
  "orig_nbformat": 2
 },
 "nbformat": 4,
 "nbformat_minor": 2
}